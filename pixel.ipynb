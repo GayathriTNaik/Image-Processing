{
 "cells": [
  {
   "cell_type": "code",
   "execution_count": 4,
   "metadata": {},
   "outputs": [],
   "source": [
    "#import Pillow modules\n",
    "from PIL import Image\n",
    "from PIL import ImageFilter\n",
    "#Load the image\n",
    "img=Image.open(\"nature.jpg\");\n",
    "#Display the original image\n",
    "img.show();\n",
    "#read pixels and apply negative transformation\n",
    "for i in range(0,img.size[0]-1):\n",
    "    for j in range(0,img.size[1]-1):\n",
    "        #get pixel value at (x,y) position of the image\n",
    "        pixelColorVals=img.getpixel((i,j));\n",
    "        #Invert color\n",
    "        redPixel=255-pixelColorVals[0];#Negate red pixel\n",
    "        greenPixel=255-pixelColorVals[1];#Negate green pixel\n",
    "        bluePixel=255-pixelColorVals[2];#Negate blue pixel\n",
    "        #Modify the image with the inverted pixel values\n",
    "        img.putpixel((i,j),(redPixel,greenPixel,bluePixel));\n",
    "        #Display the negative image\n",
    "img.show();\n"
   ]
  },
  {
   "cell_type": "code",
   "execution_count": null,
   "metadata": {},
   "outputs": [],
   "source": []
  },
  {
   "cell_type": "code",
   "execution_count": null,
   "metadata": {},
   "outputs": [],
   "source": []
  }
 ],
 "metadata": {
  "kernelspec": {
   "display_name": "Python 3",
   "language": "python",
   "name": "python3"
  },
  "language_info": {
   "codemirror_mode": {
    "name": "ipython",
    "version": 3
   },
   "file_extension": ".py",
   "mimetype": "text/x-python",
   "name": "python",
   "nbconvert_exporter": "python",
   "pygments_lexer": "ipython3",
   "version": "3.8.5"
  }
 },
 "nbformat": 4,
 "nbformat_minor": 4
}
